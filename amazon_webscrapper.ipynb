{
 "cells": [
  {
   "cell_type": "code",
   "execution_count": 1,
   "id": "c33b1031",
   "metadata": {},
   "outputs": [],
   "source": [
    "import pandas as pd\n",
    "import requests\n",
    "from bs4 import BeautifulSoup"
   ]
  },
  {
   "cell_type": "code",
   "execution_count": 2,
   "id": "6829a29c",
   "metadata": {},
   "outputs": [],
   "source": [
    "# Code adapted from JournalDev (https://www.journaldev.com/44473/scrape-amazon-product-information-beautiful-soup)\n",
    "def create_soup(url):\n",
    "    HEADERS = ({'User-Agent':\n",
    "                    'Mozilla/5.0 (X11; Linux x86_64) AppleWebKit/537.36 (KHTML, like Gecko) Chrome/44.0.2403.157 Safari/537.36',\n",
    "                    'Accept-Language': 'en-US, en;q=0.5'})\n",
    "    r = requests.get(url, headers=HEADERS)\n",
    "    soup = BeautifulSoup(r.content, 'lxml')\n",
    "    return soup "
   ]
  },
  {
   "cell_type": "code",
   "execution_count": 3,
   "id": "03ef9954",
   "metadata": {},
   "outputs": [],
   "source": [
    "# Webscrape title\n",
    "def get_title(soup):\n",
    "    try:\n",
    "        title = soup.find('span', attrs= {'id': 'productTitle'})\n",
    "        title_value = title.string.strip()\n",
    "    except AttributeError:\n",
    "        title_value = ''\n",
    "    return title_value"
   ]
  },
  {
   "cell_type": "code",
   "execution_count": 4,
   "id": "7af60602",
   "metadata": {},
   "outputs": [],
   "source": [
    "# Webscrape ASIN\n",
    "def get_asin(soup):\n",
    "    try:\n",
    "        product_detail = soup.find('div', attrs= {'id': 'detailBullets_feature_div'})\n",
    "        product_detail_bullets = product_detail.find_all('span', attrs= {'class': 'a-list-item'})\n",
    "        # order of detail bullets change, but ASIN always seems to be last\n",
    "        asin = product_detail_bullets[-1]\n",
    "        asin_value = asin.text.split()[-1]\n",
    "    except AttributeError:\n",
    "        asin_value = ''\n",
    "    return asin_value  "
   ]
  },
  {
   "cell_type": "code",
   "execution_count": 5,
   "id": "5e08fa26",
   "metadata": {},
   "outputs": [],
   "source": [
    "# Webscrape average rating\n",
    "def get_rating(soup):\n",
    "    try:\n",
    "        rating = soup.find('span', attrs= {'data-hook': 'rating-out-of-text'})\n",
    "        rating_value = rating.text.split()[0]\n",
    "    except AttributeError:\n",
    "        rating_value = ''\n",
    "    return rating_value"
   ]
  },
  {
   "cell_type": "code",
   "execution_count": 6,
   "id": "a558ce5e",
   "metadata": {},
   "outputs": [],
   "source": [
    "# Webscrape general price\n",
    "def get_price(soup):\n",
    "    try:\n",
    "        price = soup.find('span', attrs= {'class': 'a-price aok-align-center'}).text\n",
    "        price_value = price.split('$')[1]\n",
    "    except AttributeError:\n",
    "        price_value = ''\n",
    "    return price_value   "
   ]
  },
  {
   "cell_type": "code",
   "execution_count": 7,
   "id": "339aee87",
   "metadata": {},
   "outputs": [],
   "source": [
    "# Webscrape description\n",
    "def get_description(soup):\n",
    "    try:\n",
    "        description = soup.find('div', attrs= {'id': 'feature-bullets'})\n",
    "        description_value = description.text.strip()\n",
    "    except AttributeError:\n",
    "        description_value = ''\n",
    "    return description_value  "
   ]
  },
  {
   "cell_type": "code",
   "execution_count": 8,
   "id": "5440db4c",
   "metadata": {},
   "outputs": [],
   "source": [
    "# Webscrape reviews (highlighted reviews only)\n",
    "def get_reviews(soup):\n",
    "    try:\n",
    "        review_section = description = soup.find('div', attrs= {'id': 'customer-reviews_feature_div'})\n",
    "        reviews = review_section.find_all('div', attrs= {'class': 'a-expander-content reviewText review-text-content a-expander-partial-collapse-content'})\n",
    "        reviews_value = []\n",
    "        for review in reviews:\n",
    "            reviews_value.append(review.text.strip())\n",
    "    except AttributeError:\n",
    "        reviews_value = ''\n",
    "    return reviews_value"
   ]
  },
  {
   "cell_type": "code",
   "execution_count": null,
   "id": "a442e5d5",
   "metadata": {},
   "outputs": [],
   "source": []
  },
  {
   "cell_type": "code",
   "execution_count": null,
   "id": "bbf0296a",
   "metadata": {},
   "outputs": [],
   "source": []
  },
  {
   "cell_type": "code",
   "execution_count": 9,
   "id": "bb58e7bf",
   "metadata": {},
   "outputs": [],
   "source": [
    "### TEST ####"
   ]
  },
  {
   "cell_type": "code",
   "execution_count": 10,
   "id": "be846b27",
   "metadata": {},
   "outputs": [],
   "source": [
    "# Test dataframe\n",
    "url_list = ['https://www.amazon.com/Under-Armour-Charged-Assert-Running/dp/B087Z1Y7S7/ref=sr_1_2?crid=6MKV7UDI3LJE&keywords=shoes&qid=1650656388&sprefix=shoe%2Caps%2C145&sr=8-2&th=1&psc=1',\n",
    "            'https://www.amazon.com/Amazon-Essentials-Regular-Fit-Cotton-X-Large/dp/B01IXFQTXU/ref=sr_1_5?crid=3V8O96NX7578Q&keywords=shirt&qid=1650656396&sprefix=shir%2Caps%2C221&sr=8-5&th=1&psc=1',\n",
    "            'https://www.amazon.com/MEROKEETY-Womens-Leopard-Pleated-Skirts/dp/B083HSXMRF/ref=sr_1_11?crid=2CI1SFIXCJ1EJ&keywords=skirt&qid=1650656408&sprefix=skirt%2Caps%2C137&sr=8-11&th=1&psc=1',\n",
    "            'https://www.amazon.com/Columbia-Girls-Switchback-Jacket-Medium/dp/B07L4NYW3Q/ref=sr_1_5?crid=OK03MXADVJC&keywords=raincoat&qid=1650656428&sprefix=raincoa%2Caps%2C272&sr=8-5'\n",
    "           ]\n",
    "\n",
    "test_df = pd.DataFrame(url_list, columns=['amazon_url'])"
   ]
  },
  {
   "cell_type": "code",
   "execution_count": 11,
   "id": "23bd8520",
   "metadata": {},
   "outputs": [],
   "source": [
    "# Fill in dataframe \n",
    "def add_columns():\n",
    "    test_df['soup'] = test_df['amazon_url'].apply(create_soup)\n",
    "    test_df['title'] = test_df['soup'].apply(get_title)\n",
    "    test_df['asin'] = test_df['soup'].apply(get_asin)\n",
    "    test_df['rating'] = test_df['soup'].apply(get_rating)\n",
    "    test_df['price'] = test_df['soup'].apply(get_price)\n",
    "    test_df['description'] = test_df['soup'].apply(get_description)\n",
    "    test_df['review'] = test_df['soup'].apply(get_reviews)"
   ]
  },
  {
   "cell_type": "code",
   "execution_count": 12,
   "id": "4c561ff9",
   "metadata": {},
   "outputs": [],
   "source": [
    "add_columns()"
   ]
  },
  {
   "cell_type": "code",
   "execution_count": null,
   "id": "03e6a78e",
   "metadata": {},
   "outputs": [],
   "source": [
    "\n"
   ]
  },
  {
   "cell_type": "code",
   "execution_count": null,
   "id": "5682ff76",
   "metadata": {},
   "outputs": [],
   "source": []
  },
  {
   "cell_type": "code",
   "execution_count": 13,
   "id": "1f63e03c",
   "metadata": {},
   "outputs": [
    {
     "data": {
      "text/html": [
       "<div>\n",
       "<style scoped>\n",
       "    .dataframe tbody tr th:only-of-type {\n",
       "        vertical-align: middle;\n",
       "    }\n",
       "\n",
       "    .dataframe tbody tr th {\n",
       "        vertical-align: top;\n",
       "    }\n",
       "\n",
       "    .dataframe thead th {\n",
       "        text-align: right;\n",
       "    }\n",
       "</style>\n",
       "<table border=\"1\" class=\"dataframe\">\n",
       "  <thead>\n",
       "    <tr style=\"text-align: right;\">\n",
       "      <th></th>\n",
       "      <th>amazon_url</th>\n",
       "      <th>soup</th>\n",
       "      <th>title</th>\n",
       "      <th>asin</th>\n",
       "      <th>rating</th>\n",
       "      <th>price</th>\n",
       "      <th>description</th>\n",
       "      <th>review</th>\n",
       "    </tr>\n",
       "  </thead>\n",
       "  <tbody>\n",
       "    <tr>\n",
       "      <th>0</th>\n",
       "      <td>https://www.amazon.com/Under-Armour-Charged-As...</td>\n",
       "      <td>[html, [ sp:feature:head-start , \\n, [&lt;script&gt;...</td>\n",
       "      <td>Under Armour Men's Charged Assert 9 Running Shoe</td>\n",
       "      <td>B087P32XQG</td>\n",
       "      <td>4.6</td>\n",
       "      <td>60.08</td>\n",
       "      <td>Made in USA or Imported    Rubber sole    Ligh...</td>\n",
       "      <td>[I work for FedEx as a courier. Purchased thes...</td>\n",
       "    </tr>\n",
       "    <tr>\n",
       "      <th>1</th>\n",
       "      <td>https://www.amazon.com/Amazon-Essentials-Regul...</td>\n",
       "      <td>[html, [ sp:feature:head-start , \\n, [&lt;script&gt;...</td>\n",
       "      <td>Amazon Essentials Men's Regular-fit Cotton Piq...</td>\n",
       "      <td>B09MHJ2V2Q</td>\n",
       "      <td>4.3</td>\n",
       "      <td>14.60</td>\n",
       "      <td>100% Cotton    Imported    Button closure    M...</td>\n",
       "      <td>[I have an unfortunate case of the dreaded \"dr...</td>\n",
       "    </tr>\n",
       "    <tr>\n",
       "      <th>2</th>\n",
       "      <td>https://www.amazon.com/MEROKEETY-Womens-Leopar...</td>\n",
       "      <td>[html, [ sp:feature:head-start , \\n, [&lt;script&gt;...</td>\n",
       "      <td>MEROKEETY Women's Boho Leopard Print Skirt Ple...</td>\n",
       "      <td>B09QCRQKZH</td>\n",
       "      <td>4.4</td>\n",
       "      <td>33.99</td>\n",
       "      <td>100% Polyester    Elastic closure    Machine W...</td>\n",
       "      <td>[Like another reviewer mentioned, the skirt sh...</td>\n",
       "    </tr>\n",
       "    <tr>\n",
       "      <th>3</th>\n",
       "      <td>https://www.amazon.com/Columbia-Girls-Switchba...</td>\n",
       "      <td>[html, [ sp:feature:head-start , \\n, [&lt;script&gt;...</td>\n",
       "      <td>Columbia Girls' Switchback Ii Waterproof Jacket</td>\n",
       "      <td>B0814C758T</td>\n",
       "      <td>4.6</td>\n",
       "      <td></td>\n",
       "      <td>100% Polyester; 100% Nylon    Imported    Zipp...</td>\n",
       "      <td>[Pretty disappointed in this jacket. For Colum...</td>\n",
       "    </tr>\n",
       "  </tbody>\n",
       "</table>\n",
       "</div>"
      ],
      "text/plain": [
       "                                          amazon_url  \\\n",
       "0  https://www.amazon.com/Under-Armour-Charged-As...   \n",
       "1  https://www.amazon.com/Amazon-Essentials-Regul...   \n",
       "2  https://www.amazon.com/MEROKEETY-Womens-Leopar...   \n",
       "3  https://www.amazon.com/Columbia-Girls-Switchba...   \n",
       "\n",
       "                                                soup  \\\n",
       "0  [html, [ sp:feature:head-start , \\n, [<script>...   \n",
       "1  [html, [ sp:feature:head-start , \\n, [<script>...   \n",
       "2  [html, [ sp:feature:head-start , \\n, [<script>...   \n",
       "3  [html, [ sp:feature:head-start , \\n, [<script>...   \n",
       "\n",
       "                                               title        asin rating  \\\n",
       "0   Under Armour Men's Charged Assert 9 Running Shoe  B087P32XQG    4.6   \n",
       "1  Amazon Essentials Men's Regular-fit Cotton Piq...  B09MHJ2V2Q    4.3   \n",
       "2  MEROKEETY Women's Boho Leopard Print Skirt Ple...  B09QCRQKZH    4.4   \n",
       "3    Columbia Girls' Switchback Ii Waterproof Jacket  B0814C758T    4.6   \n",
       "\n",
       "   price                                        description  \\\n",
       "0  60.08  Made in USA or Imported    Rubber sole    Ligh...   \n",
       "1  14.60  100% Cotton    Imported    Button closure    M...   \n",
       "2  33.99  100% Polyester    Elastic closure    Machine W...   \n",
       "3         100% Polyester; 100% Nylon    Imported    Zipp...   \n",
       "\n",
       "                                              review  \n",
       "0  [I work for FedEx as a courier. Purchased thes...  \n",
       "1  [I have an unfortunate case of the dreaded \"dr...  \n",
       "2  [Like another reviewer mentioned, the skirt sh...  \n",
       "3  [Pretty disappointed in this jacket. For Colum...  "
      ]
     },
     "execution_count": 13,
     "metadata": {},
     "output_type": "execute_result"
    }
   ],
   "source": [
    "test_df"
   ]
  },
  {
   "cell_type": "code",
   "execution_count": 27,
   "id": "f2a67bcb",
   "metadata": {},
   "outputs": [],
   "source": [
    "test_df.to_csv('test_soup.csv')"
   ]
  },
  {
   "cell_type": "code",
   "execution_count": null,
   "id": "3e92d607",
   "metadata": {},
   "outputs": [],
   "source": []
  }
 ],
 "metadata": {
  "kernelspec": {
   "display_name": "Python 3",
   "language": "python",
   "name": "python3"
  },
  "language_info": {
   "codemirror_mode": {
    "name": "ipython",
    "version": 3
   },
   "file_extension": ".py",
   "mimetype": "text/x-python",
   "name": "python",
   "nbconvert_exporter": "python",
   "pygments_lexer": "ipython3",
   "version": "3.6.13"
  }
 },
 "nbformat": 4,
 "nbformat_minor": 5
}
